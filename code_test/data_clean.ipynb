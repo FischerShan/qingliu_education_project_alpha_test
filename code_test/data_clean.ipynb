{
 "cells": [
  {
   "cell_type": "code",
   "execution_count": 1,
   "id": "fa0c4d01-8588-4639-9ada-6a210a1b03dc",
   "metadata": {
    "execution": {
     "iopub.execute_input": "2024-08-23T14:58:37.904158Z",
     "iopub.status.busy": "2024-08-23T14:58:37.904158Z",
     "iopub.status.idle": "2024-08-23T14:58:38.312280Z",
     "shell.execute_reply": "2024-08-23T14:58:38.312280Z",
     "shell.execute_reply.started": "2024-08-23T14:58:37.904158Z"
    },
    "tags": []
   },
   "outputs": [],
   "source": [
    "import numpy as np\n",
    "import pandas as pd"
   ]
  },
  {
   "cell_type": "code",
   "execution_count": 2,
   "id": "b98c0895-ad48-4c85-b68e-038868676800",
   "metadata": {
    "execution": {
     "iopub.execute_input": "2024-08-23T14:58:38.314273Z",
     "iopub.status.busy": "2024-08-23T14:58:38.313276Z",
     "iopub.status.idle": "2024-08-23T14:58:38.936235Z",
     "shell.execute_reply": "2024-08-23T14:58:38.935238Z",
     "shell.execute_reply.started": "2024-08-23T14:58:38.314273Z"
    },
    "tags": []
   },
   "outputs": [],
   "source": [
    "df = pd.read_excel(\"data_test/data_cooperation.xlsx\", sheet_name=\"Sheet1\")"
   ]
  },
  {
   "cell_type": "code",
   "execution_count": 3,
   "id": "04ed7823-fa57-4108-82f7-2b30d605571b",
   "metadata": {
    "execution": {
     "iopub.execute_input": "2024-08-23T14:58:38.938249Z",
     "iopub.status.busy": "2024-08-23T14:58:38.937233Z",
     "iopub.status.idle": "2024-08-23T14:58:39.169642Z",
     "shell.execute_reply": "2024-08-23T14:58:39.169642Z",
     "shell.execute_reply.started": "2024-08-23T14:58:38.938249Z"
    },
    "tags": []
   },
   "outputs": [],
   "source": [
    "for j in range(20):\n",
    "\n",
    "    # 删除完全为空的行\n",
    "    df = df.dropna(how=\"all\").reset_index(drop=True)\n",
    "\n",
    "    for i in range(len(df)):\n",
    "\n",
    "        current_value = df.iloc[i][\"Origin_data\"]\n",
    "\n",
    "        if pd.notna(current_value) and (\n",
    "            (\"背景\" in current_value)\n",
    "            or (\"录取\" in current_value)\n",
    "            or (\"同学\" in current_value)\n",
    "        ):\n",
    "\n",
    "            continue\n",
    "\n",
    "        else:\n",
    "\n",
    "            # 确保处理的数据是字符串类型\n",
    "            previous_value = df.iloc[i - 1][\"Origin_data\"]\n",
    "            previous_value = \"\" if pd.isna(previous_value) else str(previous_value)\n",
    "            current_value = str(current_value)  # 确保当前值是字符串\n",
    "\n",
    "            df.at[i - 1, \"Origin_data\"] = previous_value + \"***\" + current_value\n",
    "\n",
    "            df.at[i] = np.nan\n",
    "\n",
    "        if i >= len(df):\n",
    "            break"
   ]
  },
  {
   "cell_type": "code",
   "execution_count": 4,
   "id": "57fe1e3c-bfe9-4082-a6f1-0475de9484b9",
   "metadata": {
    "execution": {
     "iopub.execute_input": "2024-08-23T14:58:39.170623Z",
     "iopub.status.busy": "2024-08-23T14:58:39.170623Z",
     "iopub.status.idle": "2024-08-23T14:58:39.249398Z",
     "shell.execute_reply": "2024-08-23T14:58:39.249398Z",
     "shell.execute_reply.started": "2024-08-23T14:58:39.170623Z"
    }
   },
   "outputs": [],
   "source": [
    "for j in range(5):\n",
    "\n",
    "    # 删除完全为空的行\n",
    "    df = df.dropna(how=\"all\").reset_index(drop=True)\n",
    "\n",
    "    for i in range(len(df)):\n",
    "\n",
    "        current_value = df.iloc[i][\"Origin_data\"]\n",
    "\n",
    "        if pd.notna(current_value) and (\"同学\" in current_value):\n",
    "\n",
    "            continue\n",
    "\n",
    "        else:\n",
    "\n",
    "            # 确保处理的数据是字符串类型\n",
    "            previous_value = df.iloc[i - 1][\"Origin_data\"]\n",
    "            previous_value = \"\" if pd.isna(previous_value) else str(previous_value)\n",
    "            current_value = str(current_value)  # 确保当前值是字符串\n",
    "\n",
    "            df.at[i - 1, \"Origin_data\"] = previous_value + \"#\" + current_value\n",
    "\n",
    "            df.at[i] = np.nan\n",
    "\n",
    "        if i >= len(df):\n",
    "            break"
   ]
  },
  {
   "cell_type": "code",
   "execution_count": 5,
   "id": "cf4a9d6e-a7b8-41b2-b22e-59c21757b2b1",
   "metadata": {
    "execution": {
     "iopub.execute_input": "2024-08-23T14:58:39.251393Z",
     "iopub.status.busy": "2024-08-23T14:58:39.251393Z",
     "iopub.status.idle": "2024-08-23T14:58:39.264357Z",
     "shell.execute_reply": "2024-08-23T14:58:39.264357Z",
     "shell.execute_reply.started": "2024-08-23T14:58:39.251393Z"
    }
   },
   "outputs": [],
   "source": [
    "# 删除特定字符\n",
    "character_to_remove = ' ***'\n",
    "df[\"Origin_data\"] = df[\"Origin_data\"].str.replace(character_to_remove, '', regex=False)\n",
    "\n",
    "character_to_remove = '***'\n",
    "df[\"Origin_data\"] = df[\"Origin_data\"].str.replace(character_to_remove, '', regex=False)\n",
    "\n",
    "character_to_remove = ' #'\n",
    "df[\"Origin_data\"] = df[\"Origin_data\"].str.replace(character_to_remove, '#', regex=False)\n",
    "\n",
    "character_to_remove = '##'\n",
    "df[\"Origin_data\"] = df[\"Origin_data\"].str.replace(character_to_remove, '#', regex=False)"
   ]
  },
  {
   "cell_type": "code",
   "execution_count": 6,
   "id": "37866fd9-1773-4a89-805c-9f139fcd412a",
   "metadata": {
    "execution": {
     "iopub.execute_input": "2024-08-23T14:58:39.268347Z",
     "iopub.status.busy": "2024-08-23T14:58:39.267349Z",
     "iopub.status.idle": "2024-08-23T14:58:39.281314Z",
     "shell.execute_reply": "2024-08-23T14:58:39.280315Z",
     "shell.execute_reply.started": "2024-08-23T14:58:39.268347Z"
    },
    "tags": []
   },
   "outputs": [],
   "source": [
    "# 使用 str.split() 方法将数据分成三列\n",
    "df[['信息', '背景', '录取']] = df[\"Origin_data\"].str.split('#', n=2, expand=True)"
   ]
  },
  {
   "cell_type": "code",
   "execution_count": 7,
   "id": "de87fdef-07af-4413-b5ed-dab7060ebd77",
   "metadata": {
    "execution": {
     "iopub.execute_input": "2024-08-23T14:58:39.282310Z",
     "iopub.status.busy": "2024-08-23T14:58:39.282310Z",
     "iopub.status.idle": "2024-08-23T14:58:39.296273Z",
     "shell.execute_reply": "2024-08-23T14:58:39.295275Z",
     "shell.execute_reply.started": "2024-08-23T14:58:39.282310Z"
    }
   },
   "outputs": [],
   "source": [
    "# 删除特定字符\n",
    "character_to_remove = '背景：'\n",
    "df[\"背景\"] = df[\"背景\"].str.replace(character_to_remove, '', regex=False)\n",
    "\n",
    "character_to_remove = '录取：'\n",
    "df[\"录取\"] = df[\"录取\"].str.replace(character_to_remove, '', regex=False)"
   ]
  },
  {
   "cell_type": "code",
   "execution_count": 8,
   "id": "25494bde-07c1-4a17-bd83-fefa20bb762f",
   "metadata": {
    "execution": {
     "iopub.execute_input": "2024-08-23T14:58:39.297270Z",
     "iopub.status.busy": "2024-08-23T14:58:39.297270Z",
     "iopub.status.idle": "2024-08-23T14:58:39.376059Z",
     "shell.execute_reply": "2024-08-23T14:58:39.375063Z",
     "shell.execute_reply.started": "2024-08-23T14:58:39.297270Z"
    },
    "tags": []
   },
   "outputs": [],
   "source": [
    "df.to_excel(\"data_test/test_result_cooperation.xlsx\")"
   ]
  }
 ],
 "metadata": {
  "kernelspec": {
   "display_name": "Python 3 (ipykernel)",
   "language": "python",
   "name": "python3"
  },
  "language_info": {
   "codemirror_mode": {
    "name": "ipython",
    "version": 3
   },
   "file_extension": ".py",
   "mimetype": "text/x-python",
   "name": "python",
   "nbconvert_exporter": "python",
   "pygments_lexer": "ipython3",
   "version": "3.9.13"
  }
 },
 "nbformat": 4,
 "nbformat_minor": 5
}
